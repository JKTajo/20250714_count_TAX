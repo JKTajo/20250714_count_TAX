{
  "nbformat": 4,
  "nbformat_minor": 0,
  "metadata": {
    "colab": {
      "provenance": [],
      "authorship_tag": "ABX9TyPHa0JQPAjpB+KQVzKI2kzL",
      "include_colab_link": true
    },
    "kernelspec": {
      "name": "python3",
      "display_name": "Python 3"
    },
    "language_info": {
      "name": "python"
    }
  },
  "cells": [
    {
      "cell_type": "markdown",
      "metadata": {
        "id": "view-in-github",
        "colab_type": "text"
      },
      "source": [
        "<a href=\"https://colab.research.google.com/github/JKTajo/20250714_count_TAX/blob/main/assignment.ipynb\" target=\"_parent\"><img src=\"https://colab.research.google.com/assets/colab-badge.svg\" alt=\"Open In Colab\"/></a>"
      ]
    },
    {
      "cell_type": "markdown",
      "source": [
        "1-2"
      ],
      "metadata": {
        "id": "2F7nriKuhSTK"
      }
    },
    {
      "cell_type": "code",
      "source": [
        "import requests\n",
        "import pandas as pd\n",
        "\n",
        "\n",
        "# url 및 api key 설정\n",
        "url = 'http://openapi.seoul.go.kr:8088/5a6d4349626a756e35364a70467556/json/energyUseDataSummaryInfo/1/5/'\n",
        "api_key = '5a6d4349626a756e35364a70467556'\n",
        "\n",
        "\n",
        "\n",
        "# 날짜 범위 잡기\n",
        "for year in range(2015,2025):\n",
        "    for month in range(1,13):\n",
        "        date = f'{year}/{month:02d}'\n",
        "        new_url = f'{url}{date}'\n",
        "        response = requests.get(new_url)\n",
        "\n",
        "\n",
        "# 호출 성공/실패 출력\n",
        "print(response.json())\n",
        "\n",
        "data = response.json()['energyUseDataSummaryInfo']['row']\n",
        "df = pd.DataFrame(data)\n",
        "\n",
        "print(df)\n",
        "\n"
      ],
      "metadata": {
        "colab": {
          "base_uri": "https://localhost:8080/"
        },
        "id": "afoI8EZbg0nq",
        "outputId": "4baa39e6-d345-4d0d-9022-70e4b15d5ea4"
      },
      "execution_count": 37,
      "outputs": [
        {
          "output_type": "stream",
          "name": "stdout",
          "text": [
            "{'energyUseDataSummaryInfo': {'list_total_count': 7, 'RESULT': {'CODE': 'INFO-000', 'MESSAGE': '정상 처리되었습니다'}, 'row': [{'YEAR': '2024', 'MON': '12', 'MM_TYPE': '공동주택관리소', 'CNT': '3716', 'EUS': '548480228', 'EUS1': '557799290', 'EUS2': '559693904', 'ECO2_1': '-10266369', 'ECO2_2': '-10266369', 'GUS': '8221238', 'GUS1': '9759209', 'GUS2': '9093999', 'GCO2_1': '-1114991.5', 'GCO2_2': '-2229983', 'WUS': '20262147.7', 'WUS1': '20228097.5', 'WUS2': '20488646.8', 'WCO2_1': '-96224.45', 'WCO2_2': '-288673.35', 'HUS': '0', 'HUS1': '0', 'HUS2': '0', 'HCO2_1': '0', 'HCO2_2': '0', 'REG_DATE': '2025-03-01 04:02:55.0'}, {'YEAR': '2024', 'MON': '12', 'MM_TYPE': '기업', 'CNT': '19451', 'EUS': '633735769', 'EUS1': '641412053', 'EUS2': '669494932', 'ECO2_1': '-21717723.5', 'ECO2_2': '-21717723.5', 'GUS': '30096486', 'GUS1': '45742965', 'GUS2': '34384677', 'GCO2_1': '-9960022.5', 'GCO2_2': '-19920045', 'WUS': '4448777.4', 'WUS1': '4406465.4', 'WUS2': '4396396.4', 'WCO2_1': '47346.5', 'WCO2_2': '142039.5', 'HUS': '0', 'HUS1': '0', 'HUS2': '0', 'HCO2_1': '0', 'HCO2_2': '0', 'REG_DATE': '2025-03-01 04:02:55.0'}, {'YEAR': '2024', 'MON': '12', 'MM_TYPE': '개인', 'CNT': '1250620', 'EUS': '134828126', 'EUS1': '138280636', 'EUS2': '138879530', 'ECO2_1': '-3751957', 'ECO2_2': '-3504709', 'GUS': '42103424', 'GUS1': '47763373', 'GUS2': '46794290', 'GCO2_1': '-5135298', 'GCO2_2': '-10270596', 'WUS': '7326853.6', 'WUS1': '7440605', 'WUS2': '7625718.9', 'WCO2_1': '-206308.35', 'WCO2_2': '-573725.128', 'HUS': '1513199.277', 'HUS1': '1598857.184', 'HUS2': '1781397.386', 'HCO2_1': '-176928.008', 'HCO2_2': '-376996.699240516', 'REG_DATE': '2025-03-01 04:02:55.0'}, {'YEAR': '2024', 'MON': '12', 'MM_TYPE': '공공기관', 'CNT': '2459', 'EUS': '152992881', 'EUS1': '161100765', 'EUS2': '162060905', 'ECO2_1': '-8587954', 'ECO2_2': '-8587954', 'GUS': '3814815', 'GUS1': '4485938', 'GUS2': '4347791', 'GCO2_1': '-601856', 'GCO2_2': '-1203712', 'WUS': '896842', 'WUS1': '854671.2', 'WUS2': '833317.4', 'WCO2_1': '52847.7', 'WCO2_2': '158543.1', 'HUS': '0', 'HUS1': '0', 'HUS2': '0', 'HCO2_1': '0', 'HCO2_2': '0', 'REG_DATE': '2025-03-01 04:02:55.0'}, {'YEAR': '2024', 'MON': '12', 'MM_TYPE': '학교', 'CNT': '6742', 'EUS': '164092999', 'EUS1': '170867152', 'EUS2': '169660376', 'ECO2_1': '-6170678', 'ECO2_2': '-6172770.32', 'GUS': '4362563', 'GUS1': '4794450', 'GUS2': '4840884', 'GCO2_1': '-452916.5', 'GCO2_2': '-905833', 'WUS': '1858841', 'WUS1': '1898794', 'WUS2': '1939698.4', 'WCO2_1': '-60405.2', 'WCO2_2': '-181607.796', 'HUS': '1062.62', 'HUS1': '902.03', 'HUS2': '1220.91', 'HCO2_1': '1.15', 'HCO2_2': '3.3315', 'REG_DATE': '2025-03-01 04:02:55.0'}]}}\n",
            "   YEAR MON  MM_TYPE      CNT        EUS       EUS1       EUS2       ECO2_1  \\\n",
            "0  2024  12  공동주택관리소     3716  548480228  557799290  559693904    -10266369   \n",
            "1  2024  12       기업    19451  633735769  641412053  669494932  -21717723.5   \n",
            "2  2024  12       개인  1250620  134828126  138280636  138879530     -3751957   \n",
            "3  2024  12     공공기관     2459  152992881  161100765  162060905     -8587954   \n",
            "4  2024  12       학교     6742  164092999  170867152  169660376     -6170678   \n",
            "\n",
            "        ECO2_2       GUS  ...        WUS1        WUS2      WCO2_1  \\\n",
            "0    -10266369   8221238  ...  20228097.5  20488646.8   -96224.45   \n",
            "1  -21717723.5  30096486  ...   4406465.4   4396396.4     47346.5   \n",
            "2     -3504709  42103424  ...     7440605   7625718.9  -206308.35   \n",
            "3     -8587954   3814815  ...    854671.2    833317.4     52847.7   \n",
            "4  -6172770.32   4362563  ...     1898794   1939698.4    -60405.2   \n",
            "\n",
            "        WCO2_2          HUS         HUS1         HUS2       HCO2_1  \\\n",
            "0   -288673.35            0            0            0            0   \n",
            "1     142039.5            0            0            0            0   \n",
            "2  -573725.128  1513199.277  1598857.184  1781397.386  -176928.008   \n",
            "3     158543.1            0            0            0            0   \n",
            "4  -181607.796      1062.62       902.03      1220.91         1.15   \n",
            "\n",
            "              HCO2_2               REG_DATE  \n",
            "0                  0  2025-03-01 04:02:55.0  \n",
            "1                  0  2025-03-01 04:02:55.0  \n",
            "2  -376996.699240516  2025-03-01 04:02:55.0  \n",
            "3                  0  2025-03-01 04:02:55.0  \n",
            "4             3.3315  2025-03-01 04:02:55.0  \n",
            "\n",
            "[5 rows x 25 columns]\n"
          ]
        }
      ]
    },
    {
      "cell_type": "code",
      "source": [
        "\n",
        "\n",
        "\n",
        "# # 전처리\n",
        "\n",
        "selected_col = df[['YEAR', 'EUS', 'GUS', 'WUS', 'HUS']]\n",
        "df = df.DataFrame()\n",
        "df = df.set_index('YEAR')\n",
        "df\n",
        "\n",
        "# # 날짜 범위\n",
        "df.loc[['2015', '2024']]\n",
        "\n",
        "\n",
        "print(df)\n",
        "\n",
        "\n",
        "\n",
        "\n",
        "\n",
        "\n"
      ],
      "metadata": {
        "colab": {
          "base_uri": "https://localhost:8080/",
          "height": 326
        },
        "id": "vjFLyBI9f0WG",
        "outputId": "e5859bc7-870e-4f20-f260-3f65cc752f1d"
      },
      "execution_count": 35,
      "outputs": [
        {
          "output_type": "error",
          "ename": "AttributeError",
          "evalue": "'DataFrame' object has no attribute 'DataFrame'",
          "traceback": [
            "\u001b[0;31m---------------------------------------------------------------------------\u001b[0m",
            "\u001b[0;31mAttributeError\u001b[0m                            Traceback (most recent call last)",
            "\u001b[0;32m/tmp/ipython-input-3353576333.py\u001b[0m in \u001b[0;36m<cell line: 0>\u001b[0;34m()\u001b[0m\n\u001b[1;32m      2\u001b[0m \u001b[0;34m\u001b[0m\u001b[0m\n\u001b[1;32m      3\u001b[0m \u001b[0mselected_col\u001b[0m \u001b[0;34m=\u001b[0m \u001b[0mdf\u001b[0m\u001b[0;34m[\u001b[0m\u001b[0;34m[\u001b[0m\u001b[0;34m'YEAR'\u001b[0m\u001b[0;34m,\u001b[0m \u001b[0;34m'EUS'\u001b[0m\u001b[0;34m,\u001b[0m \u001b[0;34m'GUS'\u001b[0m\u001b[0;34m,\u001b[0m \u001b[0;34m'WUS'\u001b[0m\u001b[0;34m,\u001b[0m \u001b[0;34m'HUS'\u001b[0m\u001b[0;34m]\u001b[0m\u001b[0;34m]\u001b[0m\u001b[0;34m\u001b[0m\u001b[0;34m\u001b[0m\u001b[0m\n\u001b[0;32m----> 4\u001b[0;31m \u001b[0mdf\u001b[0m \u001b[0;34m=\u001b[0m \u001b[0mdf\u001b[0m\u001b[0;34m.\u001b[0m\u001b[0mDataFrame\u001b[0m\u001b[0;34m(\u001b[0m\u001b[0;34m)\u001b[0m\u001b[0;34m\u001b[0m\u001b[0;34m\u001b[0m\u001b[0m\n\u001b[0m\u001b[1;32m      5\u001b[0m \u001b[0mdf\u001b[0m \u001b[0;34m=\u001b[0m \u001b[0mdf\u001b[0m\u001b[0;34m.\u001b[0m\u001b[0mset_index\u001b[0m\u001b[0;34m(\u001b[0m\u001b[0;34m'YEAR'\u001b[0m\u001b[0;34m)\u001b[0m\u001b[0;34m\u001b[0m\u001b[0;34m\u001b[0m\u001b[0m\n\u001b[1;32m      6\u001b[0m \u001b[0mdf\u001b[0m\u001b[0;34m\u001b[0m\u001b[0;34m\u001b[0m\u001b[0m\n",
            "\u001b[0;32m/usr/local/lib/python3.12/dist-packages/pandas/core/generic.py\u001b[0m in \u001b[0;36m__getattr__\u001b[0;34m(self, name)\u001b[0m\n\u001b[1;32m   6297\u001b[0m         ):\n\u001b[1;32m   6298\u001b[0m             \u001b[0;32mreturn\u001b[0m \u001b[0mself\u001b[0m\u001b[0;34m[\u001b[0m\u001b[0mname\u001b[0m\u001b[0;34m]\u001b[0m\u001b[0;34m\u001b[0m\u001b[0;34m\u001b[0m\u001b[0m\n\u001b[0;32m-> 6299\u001b[0;31m         \u001b[0;32mreturn\u001b[0m \u001b[0mobject\u001b[0m\u001b[0;34m.\u001b[0m\u001b[0m__getattribute__\u001b[0m\u001b[0;34m(\u001b[0m\u001b[0mself\u001b[0m\u001b[0;34m,\u001b[0m \u001b[0mname\u001b[0m\u001b[0;34m)\u001b[0m\u001b[0;34m\u001b[0m\u001b[0;34m\u001b[0m\u001b[0m\n\u001b[0m\u001b[1;32m   6300\u001b[0m \u001b[0;34m\u001b[0m\u001b[0m\n\u001b[1;32m   6301\u001b[0m     \u001b[0;34m@\u001b[0m\u001b[0mfinal\u001b[0m\u001b[0;34m\u001b[0m\u001b[0;34m\u001b[0m\u001b[0m\n",
            "\u001b[0;31mAttributeError\u001b[0m: 'DataFrame' object has no attribute 'DataFrame'"
          ]
        }
      ]
    }
  ]
}