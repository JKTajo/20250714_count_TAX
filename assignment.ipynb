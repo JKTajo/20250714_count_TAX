{
  "nbformat": 4,
  "nbformat_minor": 0,
  "metadata": {
    "colab": {
      "provenance": [],
      "authorship_tag": "ABX9TyM3K9jU0eZBbl4xVBTPqTTw",
      "include_colab_link": true
    },
    "kernelspec": {
      "name": "python3",
      "display_name": "Python 3"
    },
    "language_info": {
      "name": "python"
    }
  },
  "cells": [
    {
      "cell_type": "markdown",
      "metadata": {
        "id": "view-in-github",
        "colab_type": "text"
      },
      "source": [
        "<a href=\"https://colab.research.google.com/github/JKTajo/20250714_count_TAX/blob/main/assignment.ipynb\" target=\"_parent\"><img src=\"https://colab.research.google.com/assets/colab-badge.svg\" alt=\"Open In Colab\"/></a>"
      ]
    },
    {
      "cell_type": "markdown",
      "source": [
        "1-2"
      ],
      "metadata": {
        "id": "2F7nriKuhSTK"
      }
    },
    {
      "cell_type": "code",
      "source": [
        "import requests\n",
        "import pandas as pd\n",
        "import json\n",
        "import numpy as np\n",
        "\n",
        "# url 및 api key 설정\n",
        "url = 'http://openapi.seoul.go.kr:8088/5a6d4349626a756e35364a70467556/json/energyUseDataSummaryInfo/1/5/'\n",
        "api_key = '5a6d4349626a756e35364a70467556'\n",
        "\n",
        "# 원하는 데이터 수집\n",
        "def get_year_months():\n",
        "    year_months = []\n",
        "    for year in range(2024, 2024+1):\n",
        "        for month in range(1,12+1):\n",
        "            year_months.append(f'{year}{month:02d}')\n",
        "    return year_months\n",
        "\n",
        "year_months_list = get_year_months()\n",
        "\n",
        "sum_data = []\n",
        "\n",
        "for year_month in get_year_months():\n",
        "    year = year_month[:4]\n",
        "    month = year_month[4:]\n",
        "    new_url = f'{url}{year}/{month}/'\n",
        "    try:\n",
        "        response = requests.get(new_url, timeout=5)\n",
        "        response.raise_for_status()\n",
        "        data = response.json()\n",
        "        if data.get('energyUseDataSummaryInfo'):\n",
        "            rows = data['energyUseDataSummaryInfo'].get('row',[])\n",
        "            for r in rows:\n",
        "                if r.get('MM_TYPE') == '개인':\n",
        "                    extracted = {\n",
        "                    'YEAR' : r.get('YEAR'),\n",
        "                    'MON' : r.get('MON'),\n",
        "                    'MM_TYPE' : r.get('MM_TYPE'),\n",
        "                    'EUS' : r.get('EUS'),\n",
        "                    'GUS' : r.get('GUS'),\n",
        "                    'WUS' : r.get('WUS'),\n",
        "                    'HUS' : r.get('HUS'),\n",
        "                }\n",
        "                sum_data.append(extracted)\n",
        "\n",
        "    except requests.exceptions.RequestException as e:\n",
        "        print(f\"API 호출실패: {year_month}, {e}\")\n",
        "    except json.JSONDecodeError:\n",
        "        print(f\"JSON 파싱 실패 : {year_month}, {e}\")\n",
        "    finally:\n",
        "        print(\"처리 완료\")\n",
        "\n",
        "\n",
        "\n",
        "print(sum_data)"
      ],
      "metadata": {
        "colab": {
          "base_uri": "https://localhost:8080/"
        },
        "id": "afoI8EZbg0nq",
        "outputId": "1fda239c-9bdb-4656-8db2-6742414e39c1",
        "collapsed": true
      },
      "execution_count": 10,
      "outputs": [
        {
          "output_type": "stream",
          "name": "stdout",
          "text": [
            "처리 완료\n",
            "처리 완료\n",
            "처리 완료\n",
            "처리 완료\n",
            "처리 완료\n",
            "처리 완료\n",
            "처리 완료\n",
            "처리 완료\n",
            "처리 완료\n",
            "처리 완료\n",
            "처리 완료\n",
            "처리 완료\n",
            "[{'YEAR': '2024', 'MON': '01', 'MM_TYPE': '개인', 'EUS': '290223476', 'GUS': '65608930', 'WUS': '14119336.8', 'HUS': '26759601.094'}, {'YEAR': '2024', 'MON': '01', 'MM_TYPE': '개인', 'EUS': '290223476', 'GUS': '65608930', 'WUS': '14119336.8', 'HUS': '26759601.094'}, {'YEAR': '2024', 'MON': '01', 'MM_TYPE': '개인', 'EUS': '290223476', 'GUS': '65608930', 'WUS': '14119336.8', 'HUS': '26759601.094'}, {'YEAR': '2024', 'MON': '01', 'MM_TYPE': '개인', 'EUS': '290223476', 'GUS': '65608930', 'WUS': '14119336.8', 'HUS': '26759601.094'}, {'YEAR': '2024', 'MON': '01', 'MM_TYPE': '개인', 'EUS': '290223476', 'GUS': '65608930', 'WUS': '14119336.8', 'HUS': '26759601.094'}, {'YEAR': '2024', 'MON': '01', 'MM_TYPE': '개인', 'EUS': '290223476', 'GUS': '65608930', 'WUS': '14119336.8', 'HUS': '26759601.094'}, {'YEAR': '2024', 'MON': '01', 'MM_TYPE': '개인', 'EUS': '290223476', 'GUS': '65608930', 'WUS': '14119336.8', 'HUS': '26759601.094'}, {'YEAR': '2024', 'MON': '01', 'MM_TYPE': '개인', 'EUS': '290223476', 'GUS': '65608930', 'WUS': '14119336.8', 'HUS': '26759601.094'}, {'YEAR': '2024', 'MON': '01', 'MM_TYPE': '개인', 'EUS': '290223476', 'GUS': '65608930', 'WUS': '14119336.8', 'HUS': '26759601.094'}, {'YEAR': '2024', 'MON': '02', 'MM_TYPE': '개인', 'EUS': '280810330', 'GUS': '65184440', 'WUS': '14247296.7', 'HUS': '18696968.203'}, {'YEAR': '2024', 'MON': '03', 'MM_TYPE': '개인', 'EUS': '259332255', 'GUS': '58563376', 'WUS': '13792441.8', 'HUS': '13455710.256'}, {'YEAR': '2024', 'MON': '03', 'MM_TYPE': '개인', 'EUS': '259332255', 'GUS': '58563376', 'WUS': '13792441.8', 'HUS': '13455710.256'}, {'YEAR': '2024', 'MON': '03', 'MM_TYPE': '개인', 'EUS': '259332255', 'GUS': '58563376', 'WUS': '13792441.8', 'HUS': '13455710.256'}, {'YEAR': '2024', 'MON': '03', 'MM_TYPE': '개인', 'EUS': '259332255', 'GUS': '58563376', 'WUS': '13792441.8', 'HUS': '13455710.256'}, {'YEAR': '2024', 'MON': '03', 'MM_TYPE': '개인', 'EUS': '259332255', 'GUS': '58563376', 'WUS': '13792441.8', 'HUS': '13455710.256'}, {'YEAR': '2024', 'MON': '03', 'MM_TYPE': '개인', 'EUS': '259332255', 'GUS': '58563376', 'WUS': '13792441.8', 'HUS': '13455710.256'}, {'YEAR': '2024', 'MON': '03', 'MM_TYPE': '개인', 'EUS': '259332255', 'GUS': '58563376', 'WUS': '13792441.8', 'HUS': '13455710.256'}, {'YEAR': '2024', 'MON': '03', 'MM_TYPE': '개인', 'EUS': '259332255', 'GUS': '58563376', 'WUS': '13792441.8', 'HUS': '13455710.256'}, {'YEAR': '2024', 'MON': '04', 'MM_TYPE': '개인', 'EUS': '256332884', 'GUS': '35786315', 'WUS': '14330249.1', 'HUS': '3099650.225'}, {'YEAR': '2024', 'MON': '04', 'MM_TYPE': '개인', 'EUS': '256332884', 'GUS': '35786315', 'WUS': '14330249.1', 'HUS': '3099650.225'}, {'YEAR': '2024', 'MON': '04', 'MM_TYPE': '개인', 'EUS': '256332884', 'GUS': '35786315', 'WUS': '14330249.1', 'HUS': '3099650.225'}, {'YEAR': '2024', 'MON': '05', 'MM_TYPE': '개인', 'EUS': '244740675', 'GUS': '18077028', 'WUS': '14158142.9', 'HUS': '28333197.76'}, {'YEAR': '2024', 'MON': '05', 'MM_TYPE': '개인', 'EUS': '244740675', 'GUS': '18077028', 'WUS': '14158142.9', 'HUS': '28333197.76'}, {'YEAR': '2024', 'MON': '05', 'MM_TYPE': '개인', 'EUS': '244740675', 'GUS': '18077028', 'WUS': '14158142.9', 'HUS': '28333197.76'}, {'YEAR': '2024', 'MON': '05', 'MM_TYPE': '개인', 'EUS': '244740675', 'GUS': '18077028', 'WUS': '14158142.9', 'HUS': '28333197.76'}, {'YEAR': '2024', 'MON': '06', 'MM_TYPE': '개인', 'EUS': '270158916', 'GUS': '11903071', 'WUS': '14966075.6', 'HUS': '20226852.923'}, {'YEAR': '2024', 'MON': '06', 'MM_TYPE': '개인', 'EUS': '270158916', 'GUS': '11903071', 'WUS': '14966075.6', 'HUS': '20226852.923'}, {'YEAR': '2024', 'MON': '06', 'MM_TYPE': '개인', 'EUS': '270158916', 'GUS': '11903071', 'WUS': '14966075.6', 'HUS': '20226852.923'}, {'YEAR': '2024', 'MON': '06', 'MM_TYPE': '개인', 'EUS': '270158916', 'GUS': '11903071', 'WUS': '14966075.6', 'HUS': '20226852.923'}, {'YEAR': '2024', 'MON': '06', 'MM_TYPE': '개인', 'EUS': '270158916', 'GUS': '11903071', 'WUS': '14966075.6', 'HUS': '20226852.923'}, {'YEAR': '2024', 'MON': '06', 'MM_TYPE': '개인', 'EUS': '270158916', 'GUS': '11903071', 'WUS': '14966075.6', 'HUS': '20226852.923'}, {'YEAR': '2024', 'MON': '06', 'MM_TYPE': '개인', 'EUS': '270158916', 'GUS': '11903071', 'WUS': '14966075.6', 'HUS': '20226852.923'}, {'YEAR': '2024', 'MON': '06', 'MM_TYPE': '개인', 'EUS': '270158916', 'GUS': '11903071', 'WUS': '14966075.6', 'HUS': '20226852.923'}, {'YEAR': '2024', 'MON': '06', 'MM_TYPE': '개인', 'EUS': '270158916', 'GUS': '11903071', 'WUS': '14966075.6', 'HUS': '20226852.923'}, {'YEAR': '2024', 'MON': '07', 'MM_TYPE': '개인', 'EUS': '340000663', 'GUS': '8319412', 'WUS': '14992942.2', 'HUS': '2173041.617'}, {'YEAR': '2024', 'MON': '07', 'MM_TYPE': '개인', 'EUS': '340000663', 'GUS': '8319412', 'WUS': '14992942.2', 'HUS': '2173041.617'}, {'YEAR': '2024', 'MON': '07', 'MM_TYPE': '개인', 'EUS': '340000663', 'GUS': '8319412', 'WUS': '14992942.2', 'HUS': '2173041.617'}, {'YEAR': '2024', 'MON': '07', 'MM_TYPE': '개인', 'EUS': '340000663', 'GUS': '8319412', 'WUS': '14992942.2', 'HUS': '2173041.617'}, {'YEAR': '2024', 'MON': '07', 'MM_TYPE': '개인', 'EUS': '340000663', 'GUS': '8319412', 'WUS': '14992942.2', 'HUS': '2173041.617'}, {'YEAR': '2024', 'MON': '08', 'MM_TYPE': '개인', 'EUS': '463971328', 'GUS': '7072251', 'WUS': '15873544.6', 'HUS': '130082.263'}, {'YEAR': '2024', 'MON': '08', 'MM_TYPE': '개인', 'EUS': '463971328', 'GUS': '7072251', 'WUS': '15873544.6', 'HUS': '130082.263'}, {'YEAR': '2024', 'MON': '09', 'MM_TYPE': '개인', 'EUS': '409872908', 'GUS': '5729131', 'WUS': '15143321.6', 'HUS': '3420507.136'}, {'YEAR': '2024', 'MON': '09', 'MM_TYPE': '개인', 'EUS': '409872908', 'GUS': '5729131', 'WUS': '15143321.6', 'HUS': '3420507.136'}, {'YEAR': '2024', 'MON': '09', 'MM_TYPE': '개인', 'EUS': '409872908', 'GUS': '5729131', 'WUS': '15143321.6', 'HUS': '3420507.136'}, {'YEAR': '2024', 'MON': '09', 'MM_TYPE': '개인', 'EUS': '409872908', 'GUS': '5729131', 'WUS': '15143321.6', 'HUS': '3420507.136'}, {'YEAR': '2024', 'MON': '10', 'MM_TYPE': '개인', 'EUS': '282268119', 'GUS': '8233421', 'WUS': '15297669.9', 'HUS': '2695491.396'}, {'YEAR': '2024', 'MON': '10', 'MM_TYPE': '개인', 'EUS': '282268119', 'GUS': '8233421', 'WUS': '15297669.9', 'HUS': '2695491.396'}, {'YEAR': '2024', 'MON': '10', 'MM_TYPE': '개인', 'EUS': '282268119', 'GUS': '8233421', 'WUS': '15297669.9', 'HUS': '2695491.396'}, {'YEAR': '2024', 'MON': '10', 'MM_TYPE': '개인', 'EUS': '282268119', 'GUS': '8233421', 'WUS': '15297669.9', 'HUS': '2695491.396'}, {'YEAR': '2024', 'MON': '10', 'MM_TYPE': '개인', 'EUS': '282268119', 'GUS': '8233421', 'WUS': '15297669.9', 'HUS': '2695491.396'}, {'YEAR': '2024', 'MON': '10', 'MM_TYPE': '개인', 'EUS': '282268119', 'GUS': '8233421', 'WUS': '15297669.9', 'HUS': '2695491.396'}, {'YEAR': '2024', 'MON': '10', 'MM_TYPE': '개인', 'EUS': '282268119', 'GUS': '8233421', 'WUS': '15297669.9', 'HUS': '2695491.396'}, {'YEAR': '2024', 'MON': '10', 'MM_TYPE': '개인', 'EUS': '282268119', 'GUS': '8233421', 'WUS': '15297669.9', 'HUS': '2695491.396'}, {'YEAR': '2024', 'MON': '10', 'MM_TYPE': '개인', 'EUS': '282268119', 'GUS': '8233421', 'WUS': '15297669.9', 'HUS': '2695491.396'}, {'YEAR': '2024', 'MON': '11', 'MM_TYPE': '개인', 'EUS': '257927956', 'GUS': '17418221', 'WUS': '14678672.5', 'HUS': '8836296.454'}, {'YEAR': '2024', 'MON': '11', 'MM_TYPE': '개인', 'EUS': '257927956', 'GUS': '17418221', 'WUS': '14678672.5', 'HUS': '8836296.454'}, {'YEAR': '2024', 'MON': '11', 'MM_TYPE': '개인', 'EUS': '257927956', 'GUS': '17418221', 'WUS': '14678672.5', 'HUS': '8836296.454'}, {'YEAR': '2024', 'MON': '12', 'MM_TYPE': '개인', 'EUS': '134828126', 'GUS': '42103424', 'WUS': '7326853.6', 'HUS': '1513199.277'}, {'YEAR': '2024', 'MON': '12', 'MM_TYPE': '개인', 'EUS': '134828126', 'GUS': '42103424', 'WUS': '7326853.6', 'HUS': '1513199.277'}, {'YEAR': '2024', 'MON': '12', 'MM_TYPE': '개인', 'EUS': '134828126', 'GUS': '42103424', 'WUS': '7326853.6', 'HUS': '1513199.277'}]\n"
          ]
        }
      ]
    },
    {
      "cell_type": "markdown",
      "source": [
        "2-1"
      ],
      "metadata": {
        "id": "yhsIlF5n9q_c"
      }
    },
    {
      "cell_type": "code",
      "source": [
        "# 데이터프레임화\n",
        "# json 파일 저장\n",
        "with open('energy.json', mode='w', encoding = 'utf-8')as f:\n",
        "    json.dump(sum_data, f, indent = 4, ensure_ascii=False)\n",
        "\n",
        "# dataframe 생성\n",
        "df = pd.DataFrame(sum_data)\n",
        "# 데이터 측정\n",
        "df.describe()\n",
        "df\n",
        "# DataFrame 인덱스 출력\n",
        "print(df.index)\n",
        "# DataFrame 컬럼 출력\n",
        "print(df.columns)\n",
        "# DataFrame 행 출력\n",
        "# print(df.values.tolist())\n",
        "# DataFrame 값 출력\n",
        "# print(df.values.flatten())\n",
        "# DataFrame의 크기\n",
        "# print(df.shape)\n",
        "# 요약\n",
        "# print(df.describe())\n"
      ],
      "metadata": {
        "colab": {
          "base_uri": "https://localhost:8080/"
        },
        "id": "vjFLyBI9f0WG",
        "outputId": "f244947c-de1a-4487-943f-05780d6cd378"
      },
      "execution_count": 13,
      "outputs": [
        {
          "output_type": "stream",
          "name": "stdout",
          "text": [
            "RangeIndex(start=0, stop=60, step=1)\n",
            "Index(['YEAR', 'MON', 'MM_TYPE', 'EUS', 'GUS', 'WUS', 'HUS'], dtype='object')\n"
          ]
        }
      ]
    },
    {
      "cell_type": "markdown",
      "source": [
        "2-2"
      ],
      "metadata": {
        "id": "Wx_rAUfZGhfi"
      }
    },
    {
      "cell_type": "code",
      "source": [
        "df['month'] = df['MON'].dt.month\n",
        "\n",
        "# 계절 추가\n",
        "def get_season(month):\n",
        "    if month in [12, 1, 2]:\n",
        "        return '겨울'\n",
        "    elif month in [3, 4, 5]:\n",
        "        return '봄'\n",
        "    elif month in [6, 7, 8]:\n",
        "        return '여름'\n",
        "    else:\n",
        "        return '가을'\n",
        "\n",
        "df['season'] = df['month'].apply(get_season)"
      ],
      "metadata": {
        "colab": {
          "base_uri": "https://localhost:8080/",
          "height": 207
        },
        "id": "-P_ja-E5GiWM",
        "outputId": "eac778c4-3dd0-4609-b843-071f30f540f2"
      },
      "execution_count": null,
      "outputs": [
        {
          "output_type": "error",
          "ename": "TypeError",
          "evalue": "list indices must be integers or slices, not str",
          "traceback": [
            "\u001b[0;31m---------------------------------------------------------------------------\u001b[0m",
            "\u001b[0;31mTypeError\u001b[0m                                 Traceback (most recent call last)",
            "\u001b[0;32m/tmp/ipython-input-1902055597.py\u001b[0m in \u001b[0;36m<cell line: 0>\u001b[0;34m()\u001b[0m\n\u001b[0;32m----> 1\u001b[0;31m \u001b[0mdf\u001b[0m\u001b[0;34m[\u001b[0m\u001b[0;34m'month'\u001b[0m\u001b[0;34m]\u001b[0m \u001b[0;34m=\u001b[0m \u001b[0mdf\u001b[0m\u001b[0;34m[\u001b[0m\u001b[0;34m'MON'\u001b[0m\u001b[0;34m]\u001b[0m\u001b[0;34m.\u001b[0m\u001b[0mdt\u001b[0m\u001b[0;34m.\u001b[0m\u001b[0mmonth\u001b[0m\u001b[0;34m\u001b[0m\u001b[0;34m\u001b[0m\u001b[0m\n\u001b[0m\u001b[1;32m      2\u001b[0m \u001b[0;34m\u001b[0m\u001b[0m\n\u001b[1;32m      3\u001b[0m \u001b[0;31m# ✅ 4️⃣ 계절(season) 컬럼 추가\u001b[0m\u001b[0;34m\u001b[0m\u001b[0;34m\u001b[0m\u001b[0m\n\u001b[1;32m      4\u001b[0m \u001b[0;32mdef\u001b[0m \u001b[0mget_season\u001b[0m\u001b[0;34m(\u001b[0m\u001b[0mmonth\u001b[0m\u001b[0;34m)\u001b[0m\u001b[0;34m:\u001b[0m\u001b[0;34m\u001b[0m\u001b[0;34m\u001b[0m\u001b[0m\n\u001b[1;32m      5\u001b[0m     \u001b[0;32mif\u001b[0m \u001b[0mmonth\u001b[0m \u001b[0;32min\u001b[0m \u001b[0;34m[\u001b[0m\u001b[0;36m12\u001b[0m\u001b[0;34m,\u001b[0m \u001b[0;36m1\u001b[0m\u001b[0;34m,\u001b[0m \u001b[0;36m2\u001b[0m\u001b[0;34m]\u001b[0m\u001b[0;34m:\u001b[0m\u001b[0;34m\u001b[0m\u001b[0;34m\u001b[0m\u001b[0m\n",
            "\u001b[0;31mTypeError\u001b[0m: list indices must be integers or slices, not str"
          ]
        }
      ]
    },
    {
      "cell_type": "code",
      "source": [
        "season_data = list(filter(lambda data : data[\"MON\"] in ['12','01','02'], sum_data))\n",
        "print(season_data)\n",
        "\n",
        "\n",
        "df1 = pd.DataFrame(season_data)\n",
        "print(df1)\n"
      ],
      "metadata": {
        "colab": {
          "base_uri": "https://localhost:8080/"
        },
        "id": "Hqg3xu8uKDoa",
        "outputId": "45adf193-a9bb-48b6-eae9-486f68482a11"
      },
      "execution_count": 19,
      "outputs": [
        {
          "output_type": "stream",
          "name": "stdout",
          "text": [
            "[{'YEAR': '2024', 'MON': '01', 'MM_TYPE': '개인', 'EUS': '290223476', 'GUS': '65608930', 'WUS': '14119336.8', 'HUS': '26759601.094'}, {'YEAR': '2024', 'MON': '01', 'MM_TYPE': '개인', 'EUS': '290223476', 'GUS': '65608930', 'WUS': '14119336.8', 'HUS': '26759601.094'}, {'YEAR': '2024', 'MON': '01', 'MM_TYPE': '개인', 'EUS': '290223476', 'GUS': '65608930', 'WUS': '14119336.8', 'HUS': '26759601.094'}, {'YEAR': '2024', 'MON': '01', 'MM_TYPE': '개인', 'EUS': '290223476', 'GUS': '65608930', 'WUS': '14119336.8', 'HUS': '26759601.094'}, {'YEAR': '2024', 'MON': '01', 'MM_TYPE': '개인', 'EUS': '290223476', 'GUS': '65608930', 'WUS': '14119336.8', 'HUS': '26759601.094'}, {'YEAR': '2024', 'MON': '01', 'MM_TYPE': '개인', 'EUS': '290223476', 'GUS': '65608930', 'WUS': '14119336.8', 'HUS': '26759601.094'}, {'YEAR': '2024', 'MON': '01', 'MM_TYPE': '개인', 'EUS': '290223476', 'GUS': '65608930', 'WUS': '14119336.8', 'HUS': '26759601.094'}, {'YEAR': '2024', 'MON': '01', 'MM_TYPE': '개인', 'EUS': '290223476', 'GUS': '65608930', 'WUS': '14119336.8', 'HUS': '26759601.094'}, {'YEAR': '2024', 'MON': '01', 'MM_TYPE': '개인', 'EUS': '290223476', 'GUS': '65608930', 'WUS': '14119336.8', 'HUS': '26759601.094'}, {'YEAR': '2024', 'MON': '02', 'MM_TYPE': '개인', 'EUS': '280810330', 'GUS': '65184440', 'WUS': '14247296.7', 'HUS': '18696968.203'}, {'YEAR': '2024', 'MON': '12', 'MM_TYPE': '개인', 'EUS': '134828126', 'GUS': '42103424', 'WUS': '7326853.6', 'HUS': '1513199.277'}, {'YEAR': '2024', 'MON': '12', 'MM_TYPE': '개인', 'EUS': '134828126', 'GUS': '42103424', 'WUS': '7326853.6', 'HUS': '1513199.277'}, {'YEAR': '2024', 'MON': '12', 'MM_TYPE': '개인', 'EUS': '134828126', 'GUS': '42103424', 'WUS': '7326853.6', 'HUS': '1513199.277'}]\n",
            "    YEAR MON MM_TYPE        EUS       GUS         WUS           HUS\n",
            "0   2024  01      개인  290223476  65608930  14119336.8  26759601.094\n",
            "1   2024  01      개인  290223476  65608930  14119336.8  26759601.094\n",
            "2   2024  01      개인  290223476  65608930  14119336.8  26759601.094\n",
            "3   2024  01      개인  290223476  65608930  14119336.8  26759601.094\n",
            "4   2024  01      개인  290223476  65608930  14119336.8  26759601.094\n",
            "5   2024  01      개인  290223476  65608930  14119336.8  26759601.094\n",
            "6   2024  01      개인  290223476  65608930  14119336.8  26759601.094\n",
            "7   2024  01      개인  290223476  65608930  14119336.8  26759601.094\n",
            "8   2024  01      개인  290223476  65608930  14119336.8  26759601.094\n",
            "9   2024  02      개인  280810330  65184440  14247296.7  18696968.203\n",
            "10  2024  12      개인  134828126  42103424   7326853.6   1513199.277\n",
            "11  2024  12      개인  134828126  42103424   7326853.6   1513199.277\n",
            "12  2024  12      개인  134828126  42103424   7326853.6   1513199.277\n"
          ]
        }
      ]
    },
    {
      "cell_type": "code",
      "source": [
        "print(df)\n",
        "selected_col = df[['MON']]\n",
        "selected_col\n",
        "df.rename(selected_col(columns={'MON' : 'SEASON'}))\n",
        "df.append(selected_col)\n",
        "if 'MON' == '12' or '01' or '02':\n",
        "    'SEASON' = 'WINER'\n",
        "    if 'MON' == '03' or '04' or '05':\n",
        "        'SEASON'"
      ],
      "metadata": {
        "colab": {
          "base_uri": "https://localhost:8080/",
          "height": 105
        },
        "id": "9EOFdc9i1FPt",
        "outputId": "32be854a-0a53-4b03-847d-5fe5f593b8a4"
      },
      "execution_count": null,
      "outputs": [
        {
          "output_type": "error",
          "ename": "SyntaxError",
          "evalue": "cannot assign to literal here. Maybe you meant '==' instead of '='? (ipython-input-1535880163.py, line 7)",
          "traceback": [
            "\u001b[0;36m  File \u001b[0;32m\"/tmp/ipython-input-1535880163.py\"\u001b[0;36m, line \u001b[0;32m7\u001b[0m\n\u001b[0;31m    'SEASON' = 'WINER'\u001b[0m\n\u001b[0m    ^\u001b[0m\n\u001b[0;31mSyntaxError\u001b[0m\u001b[0;31m:\u001b[0m cannot assign to literal here. Maybe you meant '==' instead of '='?\n"
          ]
        }
      ]
    }
  ]
}